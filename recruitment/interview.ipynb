{
 "cells": [
  {
   "cell_type": "markdown",
   "id": "a24f4609-28cc-4d2b-b271-1dd82456b48d",
   "metadata": {
    "tags": []
   },
   "source": [
    "## Dyvenia Recruitment - Technical Interview\n",
    "\n",
    "Welcome to the technical interview! <br>\n",
    "Here you can find a randomizer for your technical tasks. Make sure that type and level of tasks are correct. If not, please inform your recruiter.\n",
    "\n",
    "Please press the button to draw your tasks. "
   ]
  },
  {
   "cell_type": "code",
   "execution_count": null,
   "id": "62b3c30f",
   "metadata": {},
   "outputs": [],
   "source": [
    "import sqlite3\n",
    "import random\n",
    "\n",
    "from IPython.display import display, Markdown, Latex\n",
    "import ipywidgets as widgets\n",
    "\n",
    "from randomizer import connect_to_generator"
   ]
  },
  {
   "cell_type": "code",
   "execution_count": 14,
   "id": "9fb4b9ee-957a-4520-afe4-be81769e9b79",
   "metadata": {},
   "outputs": [],
   "source": [
    "ROLE = \"DE\" #DA, DE\n",
    "LEVEL = \"JUNIOR\" # JUNIOR, MID, SENIOR\n",
    "AMOUNT_OF_SQL_QUESTIONS = 2\n",
    "AMOUNT_OF_PYTHON_QUESTIONS = 1"
   ]
  },
  {
   "cell_type": "code",
   "execution_count": null,
   "id": "8dda036f",
   "metadata": {},
   "outputs": [],
   "source": [
    "if ROLE == \"\" or LEVEL == \"\" :\n",
    "    [display(Markdown('''<div class=\"alert alert-block alert-danger\"> ERROR: Choose correct options </div>'''))]\n",
    "if AMOUNT_OF_SQL_QUESTIONS <= 0 and AMOUNT_OF_PYTHON_QUESTIONS <= 0: \n",
    "    [display(Markdown('''<div class=\"alert alert-block alert-danger\"> <b><i>ERROR</i>: Any questions were chosen.<br> <i>Action needed</i>: modify AMOUNT_OF_SQL_QUESTIONS and AMOUNT_OF_PYTHON_QUESTIONS </b> </div>'''))]\n",
    "elif AMOUNT_OF_SQL_QUESTIONS <= 0 : \n",
    "    [display(Markdown('''<div class=\"alert alert-block alert-danger\"> <b>WARNING</b>: Any SQL questions were chosen. If you want to change it, modify AMOUNT_OF_SQL_QUESTIONS </div>'''))]\n",
    "elif AMOUNT_OF_PYTHON_QUESTIONS <= 0 : \n",
    "    [display(Markdown('''<div class=\"alert alert-block alert-danger\"> <b>WARNING</b>: Any PYTHON questions were chosen. If you want to change it, modify AMOUNT_OF_SQL_QUESTIONS </div>'''))]"
   ]
  },
  {
   "cell_type": "code",
   "execution_count": 15,
   "id": "97baa199-4e0e-401a-9e18-50cad6090085",
   "metadata": {},
   "outputs": [
    {
     "data": {
      "application/vnd.jupyter.widget-view+json": {
       "model_id": "ed62d861860f4c62ac71e39ec8ac0437",
       "version_major": 2,
       "version_minor": 0
      },
      "text/plain": [
       "Button(description='Generate tasks for me!', layout=Layout(height='40px', width='auto'), style=ButtonStyle())"
      ]
     },
     "metadata": {},
     "output_type": "display_data"
    },
    {
     "data": {
      "application/vnd.jupyter.widget-view+json": {
       "model_id": "3774e659763d49cf8ea92d644e75fa54",
       "version_major": 2,
       "version_minor": 0
      },
      "text/plain": [
       "Output()"
      ]
     },
     "metadata": {},
     "output_type": "display_data"
    }
   ],
   "source": [
    "layout = widgets.Layout(width='auto', height='40px')\n",
    "generate_tasks = widgets.Button(description = 'Generate tasks for me!',  layout = layout)\n",
    "display(generate_tasks)\n",
    "\n",
    "output = widgets.Output()\n",
    "\n",
    "@output.capture()\n",
    "def generate(arg): \n",
    "    generate_tasks.disabled = True\n",
    "    tasks_sql = connect_to_generator(ROLE, LEVEL, \"SQL\", AMOUNT_OF_SQL_QUESTIONS)\n",
    "    tasks_py = connect_to_generator(ROLE, LEVEL, \"PYTHON\", AMOUNT_OF_PYTHON_QUESTIONS)\n",
    "    tasks = tasks_sql + tasks_py\n",
    "    if tasks:\n",
    "        if ROLE == \"DA\" and LEVEL == \"JUNIOR\" :\n",
    "            [display\n",
    "                (Markdown\n",
    "                    (f\"**Task 0.** <br> Extract all invoices from the database with SQL and Python. Using sqllite3 library, to pass SQL code. <br> <br> Path to the database: '../kb/chinook.db' <br>\")\n",
    "                ) ]\n",
    "            [display(Markdown(f\"**Task {index+1}.** <br> Task ID: **{task[0]}**. <br> <br> {task[2]} <br>\")) for index, task in enumerate(tasks)]    \n",
    "        else:     \n",
    "            [display(Markdown(f\"**Task {index+1}.** <br> Task ID: **{task[0]}**. <br> <br> {task[2]} <br>\")) for index, task in enumerate(tasks)]\n",
    "    else: \n",
    "        print(\"No tasks under this level\")\n",
    "\n",
    "\n",
    "\n",
    "\n",
    "generate_tasks.on_click(generate)\n",
    "display(output)\n"
   ]
  }
 ],
 "metadata": {
  "kernelspec": {
   "display_name": "Python 3 (ipykernel)",
   "language": "python",
   "name": "python3"
  },
  "language_info": {
   "codemirror_mode": {
    "name": "ipython",
    "version": 3
   },
   "file_extension": ".py",
   "mimetype": "text/x-python",
   "name": "python",
   "nbconvert_exporter": "python",
   "pygments_lexer": "ipython3",
   "version": "3.8.12"
  }
 },
 "nbformat": 4,
 "nbformat_minor": 5
}
